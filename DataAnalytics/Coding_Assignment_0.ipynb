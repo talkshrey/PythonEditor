{
  "nbformat": 4,
  "nbformat_minor": 0,
  "metadata": {
    "colab": {
      "name": "Copy of Assignment-0_Coding.ipynb",
      "provenance": [],
      "collapsed_sections": [],
      "toc_visible": true
    },
    "kernelspec": {
      "name": "python3",
      "display_name": "Python 3"
    },
    "language_info": {
      "name": "python"
    }
  },
  "cells": [
    {
      "cell_type": "markdown",
      "metadata": {
        "id": "FW1KtTRxgx2c"
      },
      "source": [
        "<figure>\n",
        "<center>\n",
        "<img src='https://drive.google.com/uc?id=15Co3hFLDeDQNF-UJAemy_ie04aajy4x9' height=100 align=\"center\"/>\n",
        "</figure>"
      ]
    },
    {
      "cell_type": "markdown",
      "metadata": {
        "id": "XZGFTiBTN1hW"
      },
      "source": [
        "### **Purpose**\n",
        "- This sample assignment is for you to self-evaluate whether you might be prepared for the recitations that we will offer.\n",
        "- While we will explain most of the concepts involved with the code from scratch, it will be much easier to follow along and complete the homeworks if you are already familiar with using the tools listed in this assignment.\n",
        "\n",
        "- **Note**: While we will not be grading you based on this assignment, we will request it as part of your application and we will be releasing the solutions to it as soon as the application period is over."
      ]
    },
    {
      "cell_type": "markdown",
      "metadata": {
        "id": "gk_PFoBcDxLV"
      },
      "source": [
        "### **Instructions for Coding Assignment**\n",
        "- Solutions should be written in Python.\n",
        "- You are encouraged to use external libraries including Numpy, Scipy, and Matplotlib.\n",
        "- This test is to measure your coding skills and if you'll be able to cope up with the lab exercises. We don't mind you referring to the documentation, however copying among peers would lead to disqualification of your solution\n",
        "- Please show proper output of your answers while submitting the final notebook"
      ]
    },
    {
      "cell_type": "markdown",
      "metadata": {
        "id": "f-Xuo3dJqV5k"
      },
      "source": [
        "This coding sample will help you learn about some of the functionality offered by [numpy](https://numpy.org/) and help you learn about making plots using [matplotlib](https://matplotlib.org/). "
      ]
    },
    {
      "cell_type": "markdown",
      "metadata": {
        "id": "-OBV3EtjrZSO"
      },
      "source": [
        "Q.1) In this question we will walk through and complete the coding example provided below that will allow you to simulate an array of random real numbers and plot their distribution. You will verify the [Central Limit Theorem](https://en.wikipedia.org/wiki/Central_limit_theorem) using this example. \n",
        "\n",
        "We have provided extensive comments to allow you to easily walk through the coding section."
      ]
    },
    {
      "cell_type": "code",
      "metadata": {
        "id": "t0X-0jQXrVGT"
      },
      "source": [
        "# import a library 'numpy' using an alias 'np'\n",
        "# import the 'pyplot' submodule from the 'matplotlib' module\n",
        "\n",
        "# generate a set of 1000 samples i.e. 1000 random real numbers and store it in a variable named 'x'\n",
        "# Try using a method from the numpy.random submodule\n",
        "\n",
        "# plot a histogram of the values that 'x' takes using plt.hist()\n",
        "# For more on using matplotlib for building histograms see: https://www.youtube.com/watch?v=XDv6T4a0RNc\n",
        "# Note: Try playing around with the 'bins' argument in the plt.hist() function to see how the plot changes\n",
        "# Try setting 'density' to True so the histogram represents a probability density function\n",
        "\n",
        "# add a title to the plot using plt.title()\n",
        "# show the plot using plt.show()\n",
        "\n",
        "# Bonus points (not compulsory): Using a unique feature from matplotlib to display your histogram [eg. plt.xkcd()]"
      ],
      "execution_count": null,
      "outputs": []
    },
    {
      "cell_type": "markdown",
      "metadata": {
        "id": "IfDCz7x_rvhw"
      },
      "source": [
        "Q.2) In this question you will write a function to calculate the mean and the standard deviation of the random samples you generated above and verify that they match the mean and standard deviation of the data calculated using numpy."
      ]
    },
    {
      "cell_type": "code",
      "metadata": {
        "id": "hYqIjxqArVDE"
      },
      "source": [
        "# define a function that takes as input an array of data and returns the mean of the data \n",
        "def data_mean(x):\n",
        "  # your code here\n",
        "  return mean\n",
        "\n",
        "# define a function that takes as input an array of data and returns the standard deviation of the data \n",
        "def data_std(x):\n",
        "  # your code here\n",
        "  return std\n",
        "\n",
        "# define a function that takes as input an array of data and returns the an array containing the z-scores of the original array 'x'\n",
        "# For a refresher on z-score, please have a look at https://www.statisticshowto.com/probability-and-statistics/z-score/ \n",
        "def z_calc(x):\n",
        "  # your code here \n",
        "  return z_array\n",
        "\n",
        "\n",
        "# verify that the values you calculated match the values of the mean and std obtained using the 'mean' and 'std' methods from numpy\n",
        "# You might want to use numpy.testing.assert_approx_equal\n",
        "# Also print the final outputs along with the random array x that you used for our reference"
      ],
      "execution_count": null,
      "outputs": []
    },
    {
      "cell_type": "markdown",
      "metadata": {
        "id": "XXnw83tJBeTm"
      },
      "source": [
        "Q3) Consider vectors y and z below:\n"
      ]
    },
    {
      "cell_type": "markdown",
      "metadata": {
        "id": "-cd1YolR_Hpi"
      },
      "source": [
        "<!-- V= \n",
        "\\begin{bmatrix}\n",
        "5&6\\\\\n",
        "9&8\n",
        "\\end{bmatrix}\n",
        "\\\n",
        "\\ -->\n",
        "\n",
        "$$\n",
        "y=\n",
        "\\begin{bmatrix}\n",
        "1\\\\\n",
        "3\n",
        "\\end{bmatrix}\n",
        "\\\n",
        "\\\n",
        "z=\n",
        "\\begin{bmatrix}\n",
        "2\\\\\n",
        "5\n",
        "\\end{bmatrix}\n",
        "$$"
      ]
    },
    {
      "cell_type": "code",
      "metadata": {
        "id": "h1HKA3sk93sz"
      },
      "source": [
        "# This question tests your knowledge on dimensionality in Python \n",
        "# Here, you have to calculate inner product (aka the dot product) of the given vectors\n",
        "# Have a read on how to calculate transpose and multiply two vectors in the numpy documentation and try solving it using the same\n",
        "\n",
        "# Your code here \n",
        "y = \n",
        "z = \n",
        "\n",
        "dot_prod = \n",
        "# What is the dimension of your answer? Justify with a one line comment on why you think you got that dimension in your output"
      ],
      "execution_count": null,
      "outputs": []
    }
  ]
}